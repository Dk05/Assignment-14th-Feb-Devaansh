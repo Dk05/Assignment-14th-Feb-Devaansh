{
 "cells": [
  {
   "cell_type": "code",
   "execution_count": 1,
   "id": "a7ebabce",
   "metadata": {},
   "outputs": [],
   "source": [
    "#ANS 1 : \n",
    "\n",
    "''' MULTITHREADIN IS A CONCEPT OF PARALLEL PROGRAMMING WHERE A TASK IS DIVIDED IN THREADS OF A CORE OF A \n",
    "    CPU THREADS OF A SINGLE OF CPU PERFORMS TASK AND WHEN REQUIRED TASK IS SWITCHED BETWEEN CORE TO CORE.\n",
    "    \n",
    "    IT IS USED AS PARALLEL PROGRAMMING TO SAVE CPU's PROCESSING BY TAKE IN USE OF SINLGE CORE OF A CPU\n",
    "    TO PERFORM.\n",
    "    \n",
    "    MODULE FOR THEADING IS :- \n",
    "    \n",
    "    MODULE =  import Threading '''"
   ]
  },
  {
   "cell_type": "code",
   "execution_count": 2,
   "id": "fbe4831c",
   "metadata": {},
   "outputs": [],
   "source": [
    "#ANS 2 :\n",
    "\n",
    "'''THREAD MODULE IS USED FOR VARIOUS FUNCTIONS IN THREADING CONCEPTS AND TO IMPLEMENT PARALLEL PROGRAMING\n",
    "    \n",
    "   IT HAS VARIOUS BUILT_IN FUNCTIONS :- \n",
    "   \n",
    "   activeCount() : IT IS USED TO COUNT THE NUMBER OF THREADS WHICH ARE ACTIVE AND IN WORKING.\n",
    "   \n",
    "   currentThread() : IT RETURNS THE CURRENT THREAD OBJECT TO THE CALLER'S THREAD.\n",
    "   \n",
    "   enumerate() : ITERATES OVER AND RETURNS A LIST OF THREADS OBJECTS WHICH ARE CURRENTLY ACTIVE.\n",
    "   \n",
    "   '''"
   ]
  },
  {
   "cell_type": "code",
   "execution_count": 3,
   "id": "856932cf",
   "metadata": {},
   "outputs": [],
   "source": [
    "#ANS 3 :\n",
    "\n",
    "''' \n",
    "    RUN() : IT IS AN IN-BUILT FUNCTION WHICH RETURNS THE TARGETED FUNCTION WHICH GIVEN TO THE ACTIVE \n",
    "    THREAD.\n",
    "    \n",
    "    START() : IT IS ALSO AN IN-BUILT FUNCTION WHICH IS USED TO START THE EXCECUTION OF A THREAD.\n",
    "    \n",
    "    ISALIVE() : IT IS AN IN-BUILT FUNCTION WHICH IS USED TO CHECK WHETHER A THREAD IS ALIVE OR IN SLEEP\n",
    "'''"
   ]
  },
  {
   "cell_type": "code",
   "execution_count": 12,
   "id": "98810238",
   "metadata": {},
   "outputs": [
    {
     "name": "stderr",
     "output_type": "stream",
     "text": [
      "Exception in thread Thread-35 (function):\n",
      "Traceback (most recent call last):\n",
      "  File \"C:\\Users\\dell\\AppData\\Local\\Programs\\Python\\Python311\\Lib\\threading.py\", line 1038, in _bootstrap_inner\n",
      "Exception in thread Thread-36 (function):\n",
      "Traceback (most recent call last):\n",
      "  File \"C:\\Users\\dell\\AppData\\Local\\Programs\\Python\\Python311\\Lib\\threading.py\", line 1038, in _bootstrap_inner\n",
      "Exception in thread Thread-37 (function):\n",
      "Traceback (most recent call last):\n",
      "  File \"C:\\Users\\dell\\AppData\\Local\\Programs\\Python\\Python311\\Lib\\threading.py\", line 1038, in _bootstrap_inner\n",
      "Exception in thread Thread-38 (function):\n",
      "Traceback (most recent call last):\n",
      "  File \"C:\\Users\\dell\\AppData\\Local\\Programs\\Python\\Python311\\Lib\\threading.py\", line 1038, in _bootstrap_inner\n",
      "    self.run()\n",
      "  File \"C:\\Users\\dell\\AppData\\Local\\Programs\\Python\\Python311\\Lib\\threading.py\", line 975, in run\n",
      "    self.run()\n",
      "  File \"C:\\Users\\dell\\AppData\\Local\\Programs\\Python\\Python311\\Lib\\threading.py\", line 975, in run\n",
      "Exception in thread Thread-39 (function):\n",
      "Traceback (most recent call last):\n",
      "  File \"C:\\Users\\dell\\AppData\\Local\\Programs\\Python\\Python311\\Lib\\threading.py\", line 1038, in _bootstrap_inner\n",
      "    self.run()\n",
      "  File \"C:\\Users\\dell\\AppData\\Local\\Programs\\Python\\Python311\\Lib\\threading.py\", line 975, in run\n",
      "    self.run()\n",
      "  File \"C:\\Users\\dell\\AppData\\Local\\Programs\\Python\\Python311\\Lib\\threading.py\", line 975, in run\n",
      "    self._target(*self._args, **self._kwargs)\n",
      "TypeError: __main__.function() argument after * must be an iterable, not int\n",
      "    self._target(*self._args, **self._kwargs)\n",
      "TypeError: __main__.function() argument after * must be an iterable, not int\n",
      "    self._target(*self._args, **self._kwargs)\n",
      "TypeError: __main__.function() argument after * must be an iterable, not int\n",
      "    self.run()\n",
      "  File \"C:\\Users\\dell\\AppData\\Local\\Programs\\Python\\Python311\\Lib\\threading.py\", line 975, in run\n",
      "    self._target(*self._args, **self._kwargs)\n",
      "TypeError: __main__.function() argument after * must be an iterable, not int\n"
     ]
    },
    {
     "ename": "TypeError",
     "evalue": "'type' object is not iterable",
     "output_type": "error",
     "traceback": [
      "\u001b[1;31m---------------------------------------------------------------------------\u001b[0m",
      "\u001b[1;31mTypeError\u001b[0m                                 Traceback (most recent call last)",
      "Cell \u001b[1;32mIn[12], line 13\u001b[0m\n\u001b[0;32m     10\u001b[0m \u001b[38;5;28;01mfor\u001b[39;00m t \u001b[38;5;129;01min\u001b[39;00m thread1:\n\u001b[0;32m     11\u001b[0m     t\u001b[38;5;241m.\u001b[39mstart()\n\u001b[1;32m---> 13\u001b[0m \u001b[38;5;28;01mfor\u001b[39;00m T \u001b[38;5;129;01min\u001b[39;00m \u001b[38;5;28mrange\u001b[39m:\n\u001b[0;32m     14\u001b[0m     T\u001b[38;5;241m.\u001b[39mstart()\n",
      "\u001b[1;31mTypeError\u001b[0m: 'type' object is not iterable"
     ]
    },
    {
     "name": "stderr",
     "output_type": "stream",
     "text": [
      "    self._target(*self._args, **self._kwargs)\n",
      "TypeError: __main__.function() argument after * must be an iterable, not int\n"
     ]
    }
   ],
   "source": [
    "#ANS 4 :\n",
    "\n",
    "import threading \n",
    "def function(id):\n",
    "    print(\"THE SQUARE ROOT OF %d IS : \" %id)\n",
    "    print(\"THE CUBE ROOT OF %d IS : \"  %id)\n",
    "    \n",
    "thread1 = [threading.Thread(target = function, args = (i) ) for i in range(5)]\n",
    "thread2 = [threading.Thread(target = function, args = (i) ) for i in range(5)]\n",
    "for t in thread1:\n",
    "    t.start()\n",
    "    \n",
    "for T in range:\n",
    "    T.start()"
   ]
  },
  {
   "cell_type": "code",
   "execution_count": 5,
   "id": "e6c77c22",
   "metadata": {},
   "outputs": [],
   "source": [
    "#ANS 5 :\n",
    "\n",
    "'''\n",
    "    ADVANTAGES OF MULTITHREADING \n",
    "    1.) Use of CPU in more efficient way.\n",
    "    2.) Enhanced performance by decreased development time.\n",
    "    3.) It improves the responsivness of GUI.  \n",
    "    4.) Better use of cache storage by proper utilization. \n",
    "    \n",
    "    \n",
    "    DDISADVANTAGES OF MULTITHREADING \n",
    "    1.) Results sometimes can be unpredictable.\n",
    "    2.) Too much context switching between cores and threads leads to more time and resources. \n",
    "    3.) It feels slightly difficult for a developer to write in program. \n",
    "    4.) Without a Synchronisation code, a deadlock situation frequently arises.\n",
    "    \n",
    "'''"
   ]
  },
  {
   "cell_type": "code",
   "execution_count": null,
   "id": "8c02b49d",
   "metadata": {},
   "outputs": [],
   "source": [
    "#ANS 6 :\n",
    "\n",
    "''' \n",
    "MULTITHREADING PROGRAMMING IS GOOD BUT SOMETIMES A SITUATION ARISES WHEN THERE IS AN ISSUE OF SYNCHRO-\n",
    "-NISATION ARISES LIKE THREAD 1 HAS METHOD M1 AND THREAD 2 HAS METHOD M2 , NOW WE WANT TO CALL EITHER OF \n",
    "THEM BUT THE SITUATOIN IS THAT THE THREAD 1 NEEDS METHOD OF THREAD 2 i.e (((M2))) TO CALL SIMILARLY THREAD 2\n",
    "ALSO REQUIRES METHOD OF THREAD 1 i.e (((M1))) TO CALL, SO BOTH ARE STUCKED IN A MUTUALLY EXCLUSIVE LOCK\n",
    "WHERE NEITHER OF THEM ABLE TO CALL. THIS SITUATION IS CALLED DEADLOCK OR DEADLOCK CONDITION.\n",
    "\n",
    "\n",
    "RACE CONDITION IS ARISES IN MULTITHREADING CONCEPT WHERE THERE ARE 2 OR MORE THREADS ARE INVOLED, SHARING OR \n",
    "ACCESSING SAME VARIBALE IN SAME TIME INTERVAL, LIKE THERE IS A DATA FILE OF STUDENTS RECORDS, AND NOW THREAD\n",
    "1,2,3 ARE INVOLVED , SO THREAD 1 IS ACCESSING THE FILE AND MODIFYING THE MARKS OF A STUDENT WHILE AT THE \n",
    "SAME TIME THREAD 2 ALSO HAVE THE ACCESS TO FILE AND THREAD 2 IS CHANGING THE STUDENTS DETAILS, WHILE THESE\n",
    "2 THREADS ARE THERE , 1 MORE THREAD 3 ENTERS IN THE FILE TO CALCULATE PERCENTAGES BASED ON MARKS, BUT THIS \n",
    "WILL LEAD TO DATA CORRUPTION AS THREAD 1,2,3 ARE SIMULTANEOUSLY WORKING ON SAME FILE , SO THIS IS RACE \n",
    "CONDITION WHERE ACCESS TO A FILE OR DATABASE IS SHARED BY MORE THAN 2 OR MORE THREADS. TO AVOID THIS \n",
    "A SYNCHRONIZATION CODE IS WRITTEN BY DEVELOPER WHICH GIVES ACCESS TO A FILE TO THE THREAD STEP BY STEP OR \n",
    "DISABLE THE THREAD UNLESS PREVIOUS THREAD HAVING LATEST ACCESS TO FILE COMPLETES IT'S WORK.\n",
    "\n",
    "'''"
   ]
  }
 ],
 "metadata": {
  "kernelspec": {
   "display_name": "Python 3 (ipykernel)",
   "language": "python",
   "name": "python3"
  },
  "language_info": {
   "codemirror_mode": {
    "name": "ipython",
    "version": 3
   },
   "file_extension": ".py",
   "mimetype": "text/x-python",
   "name": "python",
   "nbconvert_exporter": "python",
   "pygments_lexer": "ipython3",
   "version": "3.11.3"
  }
 },
 "nbformat": 4,
 "nbformat_minor": 5
}
